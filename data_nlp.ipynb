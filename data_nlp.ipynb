{
 "cells": [
  {
   "cell_type": "code",
   "execution_count": 66,
   "metadata": {},
   "outputs": [],
   "source": [
    "import pandas as pd"
   ]
  },
  {
   "cell_type": "code",
   "execution_count": 67,
   "metadata": {},
   "outputs": [],
   "source": [
    "data = pd.read_csv('Data/corrected_artDataset.csv')"
   ]
  },
  {
   "cell_type": "markdown",
   "metadata": {},
   "source": [
    "extracting 150 random rows for a new dataset"
   ]
  },
  {
   "cell_type": "code",
   "execution_count": 68,
   "metadata": {},
   "outputs": [],
   "source": [
    "# Take a random sample of 150 rows\n",
    "random_sample = data.sample(n=150, random_state=42) "
   ]
  },
  {
   "cell_type": "code",
   "execution_count": 69,
   "metadata": {},
   "outputs": [],
   "source": [
    "# Save the random sample to a new CSV file\n",
    "random_sample.to_csv('Data/random_sample_dataset.csv', index=False)"
   ]
  },
  {
   "cell_type": "code",
   "execution_count": 70,
   "metadata": {},
   "outputs": [
    {
     "data": {
      "text/html": [
       "<div>\n",
       "<style scoped>\n",
       "    .dataframe tbody tr th:only-of-type {\n",
       "        vertical-align: middle;\n",
       "    }\n",
       "\n",
       "    .dataframe tbody tr th {\n",
       "        vertical-align: top;\n",
       "    }\n",
       "\n",
       "    .dataframe thead th {\n",
       "        text-align: right;\n",
       "    }\n",
       "</style>\n",
       "<table border=\"1\" class=\"dataframe\">\n",
       "  <thead>\n",
       "    <tr style=\"text-align: right;\">\n",
       "      <th></th>\n",
       "      <th>id_image</th>\n",
       "      <th>price</th>\n",
       "      <th>artist</th>\n",
       "      <th>title</th>\n",
       "      <th>yearCreation</th>\n",
       "      <th>signed</th>\n",
       "      <th>condition</th>\n",
       "      <th>period</th>\n",
       "      <th>movement</th>\n",
       "      <th>price_amount</th>\n",
       "      <th>price_currency</th>\n",
       "      <th>clean_yearCreation</th>\n",
       "      <th>filename</th>\n",
       "      <th>clean_signed</th>\n",
       "    </tr>\n",
       "  </thead>\n",
       "  <tbody>\n",
       "    <tr>\n",
       "      <th>587</th>\n",
       "      <td>587</td>\n",
       "      <td>1.500 USD</td>\n",
       "      <td>Keith Jacobshagen</td>\n",
       "      <td>Evening XXIII</td>\n",
       "      <td>1990</td>\n",
       "      <td>Signed K JACOBSHAGEN in ink at lower right recto</td>\n",
       "      <td>This work is in very good condition.Artwork no...</td>\n",
       "      <td>Post-War</td>\n",
       "      <td>Expressionism</td>\n",
       "      <td>1500</td>\n",
       "      <td>USD</td>\n",
       "      <td>1990.0</td>\n",
       "      <td>../Art_Price/images/artDataset/image_588.png</td>\n",
       "      <td>Yes</td>\n",
       "    </tr>\n",
       "    <tr>\n",
       "      <th>259</th>\n",
       "      <td>259</td>\n",
       "      <td>9.500 USD</td>\n",
       "      <td>Yong Jo Ji</td>\n",
       "      <td>Nirvana</td>\n",
       "      <td>2014</td>\n",
       "      <td>[nan]</td>\n",
       "      <td>Overall excellent condition.</td>\n",
       "      <td>Contemporary</td>\n",
       "      <td>Abstract</td>\n",
       "      <td>9500</td>\n",
       "      <td>USD</td>\n",
       "      <td>2014.0</td>\n",
       "      <td>../Art_Price/images/artDataset/image_260.png</td>\n",
       "      <td>No</td>\n",
       "    </tr>\n",
       "    <tr>\n",
       "      <th>653</th>\n",
       "      <td>653</td>\n",
       "      <td>1.275 USD</td>\n",
       "      <td>Mary Heebner</td>\n",
       "      <td>Powder</td>\n",
       "      <td>1979</td>\n",
       "      <td>Heebner 79 inscribed on bottom right</td>\n",
       "      <td>This work is in good condition.Not examined ou...</td>\n",
       "      <td>Modern</td>\n",
       "      <td>Abstract</td>\n",
       "      <td>1275</td>\n",
       "      <td>USD</td>\n",
       "      <td>1979.0</td>\n",
       "      <td>../Art_Price/images/artDataset/image_654.png</td>\n",
       "      <td>No</td>\n",
       "    </tr>\n",
       "    <tr>\n",
       "      <th>77</th>\n",
       "      <td>77</td>\n",
       "      <td>2.500 USD</td>\n",
       "      <td>Doris McCarthy</td>\n",
       "      <td>funzionario</td>\n",
       "      <td>2021</td>\n",
       "      <td>[nan]</td>\n",
       "      <td>Excellent condition.</td>\n",
       "      <td>Contemporary</td>\n",
       "      <td>Abstract</td>\n",
       "      <td>2500</td>\n",
       "      <td>USD</td>\n",
       "      <td>2021.0</td>\n",
       "      <td>../Art_Price/images/artDataset/image_78.png</td>\n",
       "      <td>No</td>\n",
       "    </tr>\n",
       "    <tr>\n",
       "      <th>213</th>\n",
       "      <td>213</td>\n",
       "      <td>13.000 USD</td>\n",
       "      <td>Jim Dine</td>\n",
       "      <td>Cream and Red Robe on a Stone</td>\n",
       "      <td>2010</td>\n",
       "      <td>Signed by artist and numbered, recto</td>\n",
       "      <td>Very good condition</td>\n",
       "      <td>Contemporary</td>\n",
       "      <td>Pop Art</td>\n",
       "      <td>13000</td>\n",
       "      <td>USD</td>\n",
       "      <td>2010.0</td>\n",
       "      <td>../Art_Price/images/artDataset/image_214.png</td>\n",
       "      <td>Yes</td>\n",
       "    </tr>\n",
       "  </tbody>\n",
       "</table>\n",
       "</div>"
      ],
      "text/plain": [
       "     id_image       price             artist                          title  \\\n",
       "587       587   1.500 USD  Keith Jacobshagen                  Evening XXIII   \n",
       "259       259   9.500 USD         Yong Jo Ji                       Nirvana    \n",
       "653       653   1.275 USD       Mary Heebner                         Powder   \n",
       "77         77   2.500 USD     Doris McCarthy                    funzionario   \n",
       "213       213  13.000 USD           Jim Dine  Cream and Red Robe on a Stone   \n",
       "\n",
       "    yearCreation                                            signed  \\\n",
       "587         1990  Signed K JACOBSHAGEN in ink at lower right recto   \n",
       "259         2014                                             [nan]   \n",
       "653         1979              Heebner 79 inscribed on bottom right   \n",
       "77          2021                                             [nan]   \n",
       "213         2010              Signed by artist and numbered, recto   \n",
       "\n",
       "                                             condition        period  \\\n",
       "587  This work is in very good condition.Artwork no...      Post-War   \n",
       "259                       Overall excellent condition.  Contemporary   \n",
       "653  This work is in good condition.Not examined ou...        Modern   \n",
       "77                                Excellent condition.  Contemporary   \n",
       "213                                Very good condition  Contemporary   \n",
       "\n",
       "          movement  price_amount price_currency  clean_yearCreation  \\\n",
       "587  Expressionism          1500            USD              1990.0   \n",
       "259       Abstract          9500            USD              2014.0   \n",
       "653       Abstract          1275            USD              1979.0   \n",
       "77        Abstract          2500            USD              2021.0   \n",
       "213        Pop Art         13000            USD              2010.0   \n",
       "\n",
       "                                         filename clean_signed  \n",
       "587  ../Art_Price/images/artDataset/image_588.png          Yes  \n",
       "259  ../Art_Price/images/artDataset/image_260.png           No  \n",
       "653  ../Art_Price/images/artDataset/image_654.png           No  \n",
       "77    ../Art_Price/images/artDataset/image_78.png           No  \n",
       "213  ../Art_Price/images/artDataset/image_214.png          Yes  "
      ]
     },
     "execution_count": 70,
     "metadata": {},
     "output_type": "execute_result"
    }
   ],
   "source": [
    "random_sample.head()"
   ]
  },
  {
   "cell_type": "code",
   "execution_count": 71,
   "metadata": {},
   "outputs": [
    {
     "data": {
      "text/plain": [
       "(150, 14)"
      ]
     },
     "execution_count": 71,
     "metadata": {},
     "output_type": "execute_result"
    }
   ],
   "source": [
    "random_sample.shape"
   ]
  },
  {
   "cell_type": "markdown",
   "metadata": {},
   "source": [
    "applying manualy category of condition"
   ]
  },
  {
   "cell_type": "code",
   "execution_count": 72,
   "metadata": {},
   "outputs": [
    {
     "data": {
      "text/plain": [
       "array(['This work is in very good condition.Artwork not examined outside of frame.Minor rippling of paper consistent with process.',\n",
       "       'Overall excellent condition.',\n",
       "       'This work is in good condition.Not examined outside of frame.No obvious signs wear to artMinor scrape to corner of frame.',\n",
       "       'Excellent condition.', 'Very good condition', '[nan]',\n",
       "       'This work is in good condition.Not examined outside of frame.Minor rippling to paper.No other obvious signs of wear to art.',\n",
       "       'This work is in very good condition.Artwork not examined outside of frame.No obvious signs of wear to artwork.Scuff on top center of wood frame.',\n",
       "       \"This warm-toned print, on paper with a nearly matte, eggshell surface, is in generally good to very good condition.\\xa0The following are visible: uneven, minor silvering; deposits of original retouching; a small loss and a sharp crease that appears to break the emulsion near the upper left corner; linear abrasions under the signature; a few superficial scratches; and discoloration in the the upper left corner.\\xa0\\xa0The reverse is soiled and there are remnants of a previous mount.\\xa0'124.005.307' is written in pencil in an unidentified hand.\",\n",
       "       'This work is in very good condition.Not examined out of frame.No obvious signs of wear to art.Small smudges to matt.',\n",
       "       'The work is in excellent condition, direct from the publisher.',\n",
       "       'This work is in excellent condition.',\n",
       "       'This work is in very good condition.No obvious signs of wear to art.Not examined out of frame.',\n",
       "       'No obvious signs of wear.Not examined out of frame.',\n",
       "       'This work is in very good condition.Not examined out of frame.No obvious signs of wear to art.Nicks and chips to frame.',\n",
       "       'Not examined out of frame.One small surface mark and one minor indentation to frame.Faint surface marks at top right corner.No visible signs of wear to artwork.',\n",
       "       'This work is in excellent condition, direct from the publisher.',\n",
       "       'This work is in very good condition.Not examined out of frame.No obvious imperfections to artwork observed.',\n",
       "       'This work is in very good condition.Not examined out of frame.No obvious signs of wear to art.',\n",
       "       'This work is in good condition.Not examined out of frame.No obvious signs of wear to art.Frame is marked and scuffed at left top and bottom corners.',\n",
       "       'This work is in very good condition.Not examined out of frame.Minor adhesive residue to plexiglass.No visible signs of wear to artwork.',\n",
       "       'This work is in very good condition.Rippling to paper.Not examined out of frame.',\n",
       "       'There is minor frame abrasion along the extreme edges.Under UV: The work retains an uneven varnish and there are no signs of inpainting or previous restoration.\\xa0',\n",
       "       'Slight oxidation of paper at edges.Minor nicks and scratches to metal frame.Not examined outside of frame.',\n",
       "       'Not examined outside of frame.Nicks, scratches and some yellowing to frame. ',\n",
       "       'This work is in very good condition.Not examined out of frame.Slight rippling to paper.',\n",
       "       'This work is in very good condition.Not examined out of frame.No obvious signs of wear to art.Small chip to frame.',\n",
       "       'Not examined out of frame.Significant undulation to sheet.Water stain to top of sheet.Scattered marks to frame.Surface scratches to plexiglass.Toning to perimeter of sheet.',\n",
       "       'This work is in very good condition.Not examined out of frame.No visible signs of wear to art.',\n",
       "       'This print is in generally excellent condition.\\xa0The margin edges are worn and there is a sharp crease in the upper left margin corner that does not appear to break the emulsion.\\xa0‘#40 in show’ is written in pencil on the reverse, possibly in the photographer’s hand.',\n",
       "       'This work is in very good condition.Discoloration to edges of paper.Not examined out of frame.',\n",
       "       'This work is in good condition.Not examined out of frame.Horizontal adhesive residue mark across the top of the image.Scattered surface scratches to plexiglass.',\n",
       "       'Not examined out of frame.No obvious signs of wear or damage.',\n",
       "       'Not examined out of frame.Scratches to plexiglass detected upon close inspection.Sheet undulation.One small mark to sheet.',\n",
       "       'This work is in very good condition.Artwork not examined out of frame.Light scratching to plexiglass.',\n",
       "       'No apparent signs of damage to artwork.Not examined out of frame.Overmat with several wrinkles.Frame with minor wear.',\n",
       "       'This work is in excellent condition.There is one minor puncture mark to the far left of the canvas.',\n",
       "       'This print is in generally excellent condition.',\n",
       "       'This work is in overall good condition.Not examined outside of frame.Slight buckling of paper, consistent with process.',\n",
       "       'Occasional smudges and wear to corners. ',\n",
       "       'This work is in good condition.Not examined out of frame.',\n",
       "       'This work is in very good condition.Artwork not examined outside of frame.Minor rippling of paper consistent with process.No obvious signs of wear to artwork.',\n",
       "       'No obvious signs of damage or wear.',\n",
       "       \"The following condition report has been provided by Simon Parkes Art Conservation, Inc., New York, an independent restorer who is not an employee of Sotheby's:This work is in good condition.It has developed mild thin cracks across the top edge and across the bottom edge, not unusual for plywood.The cracks have not been retouched, except in the left shoulder of the figure, and will remain stable.The paint layer is clean and lightly varnished.There are a few retouches in tiny spots around the edges, in the left elbow of the figure and in 5 small spots in the left background.Pene du Bois' original color reads quite strongly in the hat and in the diagonal green line across the lower part of the picture, but this is all original pigment. The work should be hung as is.\",\n",
       "       \"This work is in excellent condition.This print on double-weight paper with a surface sheen, is in generally excellent condition.\\xa0Under close examination, there are some scattered shallow impressions.\\xa0The photograph is printed to the image and the edges are worn.'RB138' and 'OUT' are written in pencil in an unidentified hand on the reverse.\\xa0The upper right corner of the reverse is soiled.\",\n",
       "       'Not examined out of frame.Rubbing of frame caused some loss to paint across the top of painting, most predominately in the center.Nicks and chips to the frame, largest nicks are on the top left and bottom right.Wear consistent with age.',\n",
       "       'The work is unlined and tacked to the original stretchers. There is a small surface scuff in the rock formation at lower left.\\xa0',\n",
       "       'The work is in excellent condition.',\n",
       "       'This photograph, on semi-glossy paper, is in generally very good to excellent condition.There are scattered deposits of original retouching, some faint scratches, and a few small translucent liquid droplets.\\xa0The periphery of the image is somewhat yellowed.\\xa0The photograph is trimmed to the image and there are a few chips to the emulsion along the edges.\\xa0Since the reverse of the image is hinged to a mat, it cannot be examined.When examined under ultraviolet light, this print appears to fluoresce.',\n",
       "       'This work is in overall good condition.Work not examined outside of frame.Small holes at corners of paper from previous hanging.Minor rippling and creases in paper.No other signs of wear on art.',\n",
       "       'Not examined out of frame.Some cracking to painting from age.Nicks and cracks to frame, more prominently on corners.',\n",
       "       'No obvious signs of wear.',\n",
       "       'Not examined out of frame.No obvious signs of wear to art.Small nick and some scratches to the frame.Brown paper verso torn.  ',\n",
       "       \"The canvas is unlined. The paint surface is in good condition with thick impasto except for very fine pigment separation on the central figure's coat and on the tree trunk at right, in a small area. Under UV light, no evidence of inpainting.\",\n",
       "       'This work is in good condition.Slight rippling to paper.',\n",
       "       \"This work is in very good condition.Not examined out of frame.Minor sheet undulation due to artist's chosen working materials.\",\n",
       "       'This print, on double-weight paper with a slight surface sheen, is in generally excellent condition.\\xa0There are a few soft handling creases overall and a sharp crease in the lower left corner that does not appear to break the emulsion.\\xa0The lower margin corners are bumped and the upper paper-ply is peeling. On the reverse, each corner in slightly discolored.',\n",
       "       'Not examined out of frame.Creases from fold-marks to subway map.',\n",
       "       'Wear consistent with age and use.',\n",
       "       'This work is in very good condition.Artwork not examined outside of frame.No obvious signs of wear to artwork.Minor marks and scuffs to frame finish.',\n",
       "       'Excellent condition ',\n",
       "       'Not examined out of frame.No obvious signs of wear.',\n",
       "       'Very good condition.Relined.',\n",
       "       'This work is in very good condition.Artwork not inspected out of frame.Light wear to frame.',\n",
       "       'The canvas is unlined and tacked to the original stretchers.There is minor frame abrasion along the edges. Under UV: There are no signs of inpainting or previous restoration.',\n",
       "       'Not examined out of frame.No obvious signs of wear to art.Small scratch to bottom of plexiglass.',\n",
       "       'This work is in very good condition.Not examined out of frame.No obvious signs of wear or damage.',\n",
       "       'Occasional edge wear to canvas sides and corners.',\n",
       "       'This work is in good condition with wear commensurate with age and use.Artwork has not been examined outside of frame.Paint loss including scratches.',\n",
       "       'This work is in very good condition, direct from the publisher.',\n",
       "       'Overall excellent condition ',\n",
       "       'This work is in overall excellent condition.Under close examination, the following are visible: faint silvering in the darkest areas of the prints and occasional chips to the black margins.There are adhesive remnants, abrasions, and faint soiling on the reverse of the prints.When examined under ultraviolet light, these prints do not appear to fluoresce.',\n",
       "       'This work is in good condition.Not examined out of frame.Small scattered scratches to plexiglass.',\n",
       "       'This work is in good condition.Artwork not inspected out of frame.Wear to frame in areas.Pinholes to corners of artwork.',\n",
       "       'Not examined outside of frame. Paper has a noticeable seam across the middle of the image.  ',\n",
       "       \"This solarized print, on Agfa paper, is in generally excellent condition.\\xa0There is a 3-inch diagonal crease in the upper right corner that does not appear to break the emulsion.\\xa0'RB147' is written in pencil in an unidentified hand on the reverse.\",\n",
       "       'This work is in very good condition.Artwork not examined outside of frame.Small pin holes at corners from previous hanging.No other signs of wear to artwork.',\n",
       "       'No obvious signs of wear to art.',\n",
       "       'Overall very good condition.Small chip to canvas at left side, middle.Occasional scratching and chips at frame corners.Not examined out of frame.',\n",
       "       'This work is in very good condition.Not examined out of frame.No obvious signs of wear to art.Scratches and nicks to frame.',\n",
       "       'Not examined out of frame.Scratches throughout plexiglas.',\n",
       "       'Not examined out of frame.Creasing. Minor stains and nicks to frame.',\n",
       "       'This work is in very good condition.Not examined outside of frame.No obvious signs of damage to artwork.',\n",
       "       'This work is in good condition.Not examined outside of frame.No obvious damage to artwork.',\n",
       "       'Overall both drawings are in good condition.Pendant drawing:A few small losses to the sheet in all four corners.Along the upper edge there are three vertical repaired tears, the longest of which measures 4 inches, and an additional repaired loss.Along the center of the left edge, there are several repaired losses which together measure 5 ½ x ½ inches and a horizontal repaired tear measuring 2 inches.Along the center of the lower edge, there is a repaired loss measuring 3 x ¼ inches. In the upper right quadrant, between two pendant designs, there is a network of interconnected repaired losses and tears, the total area of which measures 1 ½ x 2 inches.Along the right edge there is a ½ inch loss.A few flattened handling creases throughout.Comb drawing:Small losses to the sheet in the upper left and lower right corners.Along the lower edge there is a ½ inch repaired tear and a ¼ inch nick in the sheet.Along the right edge there is a ½ inch tear.Along the left edge there is a repaired tear measuring 1 ½ inches.In the upper right quadrant of the sheet, there is a C-shaped repaired tear measuring 4 ½ inches in length. Another 1 inch repaired tear in the same area.Other handling creases in the sheet throughout.',\n",
       "       'Not examined out of frame.No obvious signs of wear to art.',\n",
       "       'This work is in good condition.The work is in generally good condition apart from surface soiling and scattered spots of pale, mottled discoloration.The adhesive discolored in a few spots along the seams.',\n",
       "       'This print is in generally excellent condition.\\xa0There are occasional hairline scratches.\\xa0In the margin is a piece of adhesive with ‘P74’ and ‘63%’ written in pencil in an unidentified hand.',\n",
       "       'This work is in very good condition.Minor scuffs to frame with tear to paper backing.Art not examined outside of frame.',\n",
       "       'Screenprints are in excellent condition.',\n",
       "       \"This drawing is in good and stable condition consistent with its age, the inherent quality of the artist's chosen materials, and other examples of the artist's works using similar materials.The paper support is toned overall with some additional darkening corresponding to the area exposed to light. There is a liquid stain at the top left corner, which is likely attributable to the milieu of the artist’s studio. The sheet is structurally sound with some small edge tears and dents. An old tear that crosses the width of the sheet has been well-mended during an earlier restoration procedure through the application of an overall paper lining on the verso surface.The sheet has natural undulations and minor distortions throughout. The UV examination did not reveal anything further of note and provided additional support for the observations above.Presented with a window mat that covers the sheet edges.\",\n",
       "       'This print is in excellent condition.There are some deposits of original retouching.',\n",
       "       'This chromogenic print is in generally excellent condition.The colors are rich and saturated, with no apparent fading.',\n",
       "       'This work is in very good condition.Not examined out of frame.Discoloration to edges of paper.Yellowing to background paper.',\n",
       "       'This work is in good condition.Not examined out of frame.No obvious signs of wear to art.',\n",
       "       'The canvas is unlined and tacked to the original stretchers. The work is slightly dirty. Under UV: There are no signs of inpainting or previous restoration.',\n",
       "       'This work is in good condition.Not examined out of frame.Discoloration to edges of paper.Yellowing to background paper.Separation of frame at corner and crack to frame.',\n",
       "       'Not examined out of frame.Work is in original condition.',\n",
       "       'Artwork not examined outside of frame.Minor rippling to paper.Minor surface wear to frame.',\n",
       "       'Not examined out of frame.Minor rippling to paper.',\n",
       "       'This early print is in generally very good condition.\\xa0Visible under close inspection are some scuffs, soft handling creases and an approximately one-inch crease in the lower left quadrant that appears to break the emulsion.\\xa0There is minor edge wear, with some sharp creases that break the emulsion and occasional losses.\\xa0On the reverse are numerous reproduction notations in crayon and graphite in unidentified hands.'],\n",
       "      dtype=object)"
      ]
     },
     "execution_count": 72,
     "metadata": {},
     "output_type": "execute_result"
    }
   ],
   "source": [
    "random_sample['condition'].unique()"
   ]
  },
  {
   "cell_type": "code",
   "execution_count": 73,
   "metadata": {},
   "outputs": [],
   "source": [
    "# Function to clean the condition description\n",
    "def clean_condition(condition_text):\n",
    "    if 'nan' in condition_text.lower():\n",
    "        return 'unknown'\n",
    "    elif 'very good condition' in condition_text.lower():\n",
    "        return 'very good'\n",
    "    elif 'ear consistent with age and use' in condition_text.lower():\n",
    "        return 'very good'\n",
    "    elif 'very good condition' and 'no obvious signs of wear' in condition_text.lower():\n",
    "        return 'very good'\n",
    "    elif 'excellent condition' in condition_text.lower():\n",
    "        return 'excellent'\n",
    "    elif 'unlined and tacked to the original stretchers' in condition_text.lower():\n",
    "        return 'excellent'\n",
    "    elif 'original condition' in condition_text.lower():\n",
    "        return 'excellent'\n",
    "    elif 'minor rippling' in condition_text.lower():\n",
    "        return 'excellent' \n",
    "    elif 'no obvious signs of damage or wear' in condition_text.lower():\n",
    "        return 'excellent' \n",
    "    elif 'good and stable condition'in condition_text.lower():\n",
    "        return 'very good'\n",
    "    elif 'occasional edge wear' in condition_text.lower():\n",
    "        return 'very good'\n",
    "    elif 'slightly dirty' in condition_text.lower():\n",
    "        return 'very good'\n",
    "    elif 'good condition' in condition_text.lower():\n",
    "        return 'good'\n",
    "    elif 'no obvious signs of wear' in condition_text.lower():\n",
    "        return 'good'\n",
    "    elif 'no visible signs of wear' in condition_text.lower():\n",
    "        return 'good'\n",
    "    elif 'no apparent signs of damage' in condition_text.lower():\n",
    "        return 'good'\n",
    "    elif 'slight oxidation' in condition_text.lower():\n",
    "        return 'good'\n",
    "    elif 'cracking to painting from age' in condition_text.lower():\n",
    "        return 'good'\n",
    "    elif 'creases from fold-marks' in condition_text.lower():\n",
    "        return 'good'\n",
    "    elif 'good condition' in condition_text.lower():\n",
    "        return 'good'\n",
    "    elif 'scratches throughout plexiglas' in condition_text.lower():\n",
    "        return 'good'\n",
    "    elif 'yellowing to frame' in condition_text.lower():\n",
    "        return 'acceptable'\n",
    "    elif 'occasional smudges and wear to corners' in condition_text.lower():\n",
    "        return 'acceptable'\n",
    "    elif 'creasing' and 'minor stains' in condition_text.lower():\n",
    "        return 'acceptable'\n",
    "    elif 'noticeable seam' in condition_text.lower():\n",
    "        return 'acceptable'\n",
    "    elif 'minor frame abrasion' and 'uneven varnish' in condition_text.lower():\n",
    "        return 'acceptable'\n",
    "    elif 'undulation to sheet' and 'water stain' in condition_text.lower():\n",
    "        return 'acceptable'\n",
    "    elif 'scratches to plexiglass' and 'sheet undulation' in condition_text.lower():\n",
    "        return 'acceptable'\n",
    "    elif 'loss to paint across the top of painting' in condition_text.lower():\n",
    "        return 'acceptable'\n",
    "    else:\n",
    "\n",
    "        return condition_text\n",
    "\n",
    "\n",
    "# Apply the function to create the new column 'clean_condition'\n",
    "random_sample['category'] = random_sample['condition'].apply(clean_condition)"
   ]
  },
  {
   "cell_type": "code",
   "execution_count": 74,
   "metadata": {},
   "outputs": [
    {
     "data": {
      "text/plain": [
       "array(['very good', 'excellent', 'good', 'unknown', 'acceptable'],\n",
       "      dtype=object)"
      ]
     },
     "execution_count": 74,
     "metadata": {},
     "output_type": "execute_result"
    }
   ],
   "source": [
    "random_sample['category'].unique()"
   ]
  },
  {
   "cell_type": "code",
   "execution_count": 75,
   "metadata": {},
   "outputs": [
    {
     "data": {
      "text/plain": [
       "category\n",
       "excellent     60\n",
       "very good     55\n",
       "good          24\n",
       "acceptable     8\n",
       "unknown        3\n",
       "Name: count, dtype: int64"
      ]
     },
     "execution_count": 75,
     "metadata": {},
     "output_type": "execute_result"
    }
   ],
   "source": [
    "random_sample['category'].value_counts()"
   ]
  },
  {
   "cell_type": "code",
   "execution_count": 76,
   "metadata": {},
   "outputs": [
    {
     "data": {
      "text/plain": [
       "<Axes: xlabel='category'>"
      ]
     },
     "execution_count": 76,
     "metadata": {},
     "output_type": "execute_result"
    },
    {
     "data": {
      "image/png": "[encoded data removed]",
      "text/plain": [
       "<Figure size 640x480 with 1 Axes>"
      ]
     },
     "metadata": {},
     "output_type": "display_data"
    }
   ],
   "source": [
    "# check target balance\n",
    "\n",
    "random_sample['category'].value_counts(normalize = True).plot.bar()"
   ]
  },
  {
   "cell_type": "markdown",
   "metadata": {},
   "source": [
    "# create a list text\n",
    "condition = list(random_sample['condition'])\n",
    "# create a list text\n",
    "condition = list(random_sample['condition'])\n",
    "# preprocessing loop\n",
    "import re\n",
    "from nltk.corpus import stopwords\n",
    "from nltk.stem import WordNetLemmatizer\n",
    "\n",
    "lemmatizer = WordNetLemmatizer()"
   ]
  },
  {
   "cell_type": "code",
   "execution_count": 77,
   "metadata": {},
   "outputs": [],
   "source": [
    "import string\n",
    "from nltk import word_tokenize\n",
    "from nltk.stem import WordNetLemmatizer\n",
    "\n",
    "def preprocessing(sentence):\n",
    "    # Lowercasing\n",
    "    sentence = sentence.lower()\n",
    "\n",
    "    # Removing numbers\n",
    "    sentence = ''.join(char for char in sentence if not char.isdigit())\n",
    "    \n",
    "    # Removing punctuation    \n",
    "    for punctuation in string.punctuation:\n",
    "        sentence = sentence.replace(punctuation, '') \n",
    "    \n",
    "    sentence = sentence.strip()\n",
    "\n",
    "    # Tokenization\n",
    "    tokenized = word_tokenize(sentence)\n",
    "\n",
    "    # Lemmatization\n",
    "    lemmatizer = WordNetLemmatizer()\n",
    "    lemmatized = [lemmatizer.lemmatize(word) for word in tokenized]\n",
    "    cleaned_sentence = \" \".join(lemmatized)\n",
    "    return cleaned_sentence"
   ]
  },
  {
   "cell_type": "code",
   "execution_count": 78,
   "metadata": {},
   "outputs": [],
   "source": [
    "random_sample['cleaned_condition'] = random_sample['condition'].apply(preprocessing)"
   ]
  },
  {
   "cell_type": "code",
   "execution_count": 79,
   "metadata": {},
   "outputs": [
    {
     "data": {
      "text/html": [
       "<div>\n",
       "<style scoped>\n",
       "    .dataframe tbody tr th:only-of-type {\n",
       "        vertical-align: middle;\n",
       "    }\n",
       "\n",
       "    .dataframe tbody tr th {\n",
       "        vertical-align: top;\n",
       "    }\n",
       "\n",
       "    .dataframe thead th {\n",
       "        text-align: right;\n",
       "    }\n",
       "</style>\n",
       "<table border=\"1\" class=\"dataframe\">\n",
       "  <thead>\n",
       "    <tr style=\"text-align: right;\">\n",
       "      <th></th>\n",
       "      <th>id_image</th>\n",
       "      <th>price</th>\n",
       "      <th>artist</th>\n",
       "      <th>title</th>\n",
       "      <th>yearCreation</th>\n",
       "      <th>signed</th>\n",
       "      <th>condition</th>\n",
       "      <th>period</th>\n",
       "      <th>movement</th>\n",
       "      <th>price_amount</th>\n",
       "      <th>price_currency</th>\n",
       "      <th>clean_yearCreation</th>\n",
       "      <th>filename</th>\n",
       "      <th>clean_signed</th>\n",
       "      <th>category</th>\n",
       "      <th>cleaned_condition</th>\n",
       "    </tr>\n",
       "  </thead>\n",
       "  <tbody>\n",
       "    <tr>\n",
       "      <th>587</th>\n",
       "      <td>587</td>\n",
       "      <td>1.500 USD</td>\n",
       "      <td>Keith Jacobshagen</td>\n",
       "      <td>Evening XXIII</td>\n",
       "      <td>1990</td>\n",
       "      <td>Signed K JACOBSHAGEN in ink at lower right recto</td>\n",
       "      <td>This work is in very good condition.Artwork no...</td>\n",
       "      <td>Post-War</td>\n",
       "      <td>Expressionism</td>\n",
       "      <td>1500</td>\n",
       "      <td>USD</td>\n",
       "      <td>1990.0</td>\n",
       "      <td>../Art_Price/images/artDataset/image_588.png</td>\n",
       "      <td>Yes</td>\n",
       "      <td>very good</td>\n",
       "      <td>this work is in very good conditionartwork not...</td>\n",
       "    </tr>\n",
       "    <tr>\n",
       "      <th>259</th>\n",
       "      <td>259</td>\n",
       "      <td>9.500 USD</td>\n",
       "      <td>Yong Jo Ji</td>\n",
       "      <td>Nirvana</td>\n",
       "      <td>2014</td>\n",
       "      <td>[nan]</td>\n",
       "      <td>Overall excellent condition.</td>\n",
       "      <td>Contemporary</td>\n",
       "      <td>Abstract</td>\n",
       "      <td>9500</td>\n",
       "      <td>USD</td>\n",
       "      <td>2014.0</td>\n",
       "      <td>../Art_Price/images/artDataset/image_260.png</td>\n",
       "      <td>No</td>\n",
       "      <td>excellent</td>\n",
       "      <td>overall excellent condition</td>\n",
       "    </tr>\n",
       "  </tbody>\n",
       "</table>\n",
       "</div>"
      ],
      "text/plain": [
       "     id_image      price             artist          title yearCreation  \\\n",
       "587       587  1.500 USD  Keith Jacobshagen  Evening XXIII         1990   \n",
       "259       259  9.500 USD         Yong Jo Ji       Nirvana          2014   \n",
       "\n",
       "                                               signed  \\\n",
       "587  Signed K JACOBSHAGEN in ink at lower right recto   \n",
       "259                                             [nan]   \n",
       "\n",
       "                                             condition        period  \\\n",
       "587  This work is in very good condition.Artwork no...      Post-War   \n",
       "259                       Overall excellent condition.  Contemporary   \n",
       "\n",
       "          movement  price_amount price_currency  clean_yearCreation  \\\n",
       "587  Expressionism          1500            USD              1990.0   \n",
       "259       Abstract          9500            USD              2014.0   \n",
       "\n",
       "                                         filename clean_signed   category  \\\n",
       "587  ../Art_Price/images/artDataset/image_588.png          Yes  very good   \n",
       "259  ../Art_Price/images/artDataset/image_260.png           No  excellent   \n",
       "\n",
       "                                     cleaned_condition  \n",
       "587  this work is in very good conditionartwork not...  \n",
       "259                        overall excellent condition  "
      ]
     },
     "execution_count": 79,
     "metadata": {},
     "output_type": "execute_result"
    }
   ],
   "source": [
    "random_sample.head(2)"
   ]
  },
  {
   "cell_type": "code",
   "execution_count": 80,
   "metadata": {},
   "outputs": [
    {
     "data": {
      "text/html": [
       "<div>\n",
       "<style scoped>\n",
       "    .dataframe tbody tr th:only-of-type {\n",
       "        vertical-align: middle;\n",
       "    }\n",
       "\n",
       "    .dataframe tbody tr th {\n",
       "        vertical-align: top;\n",
       "    }\n",
       "\n",
       "    .dataframe thead th {\n",
       "        text-align: right;\n",
       "    }\n",
       "</style>\n",
       "<table border=\"1\" class=\"dataframe\">\n",
       "  <thead>\n",
       "    <tr style=\"text-align: right;\">\n",
       "      <th></th>\n",
       "      <th>id_image</th>\n",
       "      <th>price</th>\n",
       "      <th>artist</th>\n",
       "      <th>title</th>\n",
       "      <th>yearCreation</th>\n",
       "      <th>signed</th>\n",
       "      <th>condition</th>\n",
       "      <th>period</th>\n",
       "      <th>movement</th>\n",
       "      <th>price_amount</th>\n",
       "      <th>price_currency</th>\n",
       "      <th>clean_yearCreation</th>\n",
       "      <th>filename</th>\n",
       "      <th>clean_signed</th>\n",
       "      <th>category</th>\n",
       "      <th>cleaned_condition</th>\n",
       "      <th>category_encoded</th>\n",
       "    </tr>\n",
       "  </thead>\n",
       "  <tbody>\n",
       "    <tr>\n",
       "      <th>587</th>\n",
       "      <td>587</td>\n",
       "      <td>1.500 USD</td>\n",
       "      <td>Keith Jacobshagen</td>\n",
       "      <td>Evening XXIII</td>\n",
       "      <td>1990</td>\n",
       "      <td>Signed K JACOBSHAGEN in ink at lower right recto</td>\n",
       "      <td>This work is in very good condition.Artwork no...</td>\n",
       "      <td>Post-War</td>\n",
       "      <td>Expressionism</td>\n",
       "      <td>1500</td>\n",
       "      <td>USD</td>\n",
       "      <td>1990.0</td>\n",
       "      <td>../Art_Price/images/artDataset/image_588.png</td>\n",
       "      <td>Yes</td>\n",
       "      <td>very good</td>\n",
       "      <td>this work is in very good conditionartwork not...</td>\n",
       "      <td>4</td>\n",
       "    </tr>\n",
       "    <tr>\n",
       "      <th>259</th>\n",
       "      <td>259</td>\n",
       "      <td>9.500 USD</td>\n",
       "      <td>Yong Jo Ji</td>\n",
       "      <td>Nirvana</td>\n",
       "      <td>2014</td>\n",
       "      <td>[nan]</td>\n",
       "      <td>Overall excellent condition.</td>\n",
       "      <td>Contemporary</td>\n",
       "      <td>Abstract</td>\n",
       "      <td>9500</td>\n",
       "      <td>USD</td>\n",
       "      <td>2014.0</td>\n",
       "      <td>../Art_Price/images/artDataset/image_260.png</td>\n",
       "      <td>No</td>\n",
       "      <td>excellent</td>\n",
       "      <td>overall excellent condition</td>\n",
       "      <td>1</td>\n",
       "    </tr>\n",
       "    <tr>\n",
       "      <th>653</th>\n",
       "      <td>653</td>\n",
       "      <td>1.275 USD</td>\n",
       "      <td>Mary Heebner</td>\n",
       "      <td>Powder</td>\n",
       "      <td>1979</td>\n",
       "      <td>Heebner 79 inscribed on bottom right</td>\n",
       "      <td>This work is in good condition.Not examined ou...</td>\n",
       "      <td>Modern</td>\n",
       "      <td>Abstract</td>\n",
       "      <td>1275</td>\n",
       "      <td>USD</td>\n",
       "      <td>1979.0</td>\n",
       "      <td>../Art_Price/images/artDataset/image_654.png</td>\n",
       "      <td>No</td>\n",
       "      <td>good</td>\n",
       "      <td>this work is in good conditionnot examined out...</td>\n",
       "      <td>2</td>\n",
       "    </tr>\n",
       "    <tr>\n",
       "      <th>77</th>\n",
       "      <td>77</td>\n",
       "      <td>2.500 USD</td>\n",
       "      <td>Doris McCarthy</td>\n",
       "      <td>funzionario</td>\n",
       "      <td>2021</td>\n",
       "      <td>[nan]</td>\n",
       "      <td>Excellent condition.</td>\n",
       "      <td>Contemporary</td>\n",
       "      <td>Abstract</td>\n",
       "      <td>2500</td>\n",
       "      <td>USD</td>\n",
       "      <td>2021.0</td>\n",
       "      <td>../Art_Price/images/artDataset/image_78.png</td>\n",
       "      <td>No</td>\n",
       "      <td>excellent</td>\n",
       "      <td>excellent condition</td>\n",
       "      <td>1</td>\n",
       "    </tr>\n",
       "    <tr>\n",
       "      <th>213</th>\n",
       "      <td>213</td>\n",
       "      <td>13.000 USD</td>\n",
       "      <td>Jim Dine</td>\n",
       "      <td>Cream and Red Robe on a Stone</td>\n",
       "      <td>2010</td>\n",
       "      <td>Signed by artist and numbered, recto</td>\n",
       "      <td>Very good condition</td>\n",
       "      <td>Contemporary</td>\n",
       "      <td>Pop Art</td>\n",
       "      <td>13000</td>\n",
       "      <td>USD</td>\n",
       "      <td>2010.0</td>\n",
       "      <td>../Art_Price/images/artDataset/image_214.png</td>\n",
       "      <td>Yes</td>\n",
       "      <td>very good</td>\n",
       "      <td>very good condition</td>\n",
       "      <td>4</td>\n",
       "    </tr>\n",
       "  </tbody>\n",
       "</table>\n",
       "</div>"
      ],
      "text/plain": [
       "     id_image       price             artist                          title  \\\n",
       "587       587   1.500 USD  Keith Jacobshagen                  Evening XXIII   \n",
       "259       259   9.500 USD         Yong Jo Ji                       Nirvana    \n",
       "653       653   1.275 USD       Mary Heebner                         Powder   \n",
       "77         77   2.500 USD     Doris McCarthy                    funzionario   \n",
       "213       213  13.000 USD           Jim Dine  Cream and Red Robe on a Stone   \n",
       "\n",
       "    yearCreation                                            signed  \\\n",
       "587         1990  Signed K JACOBSHAGEN in ink at lower right recto   \n",
       "259         2014                                             [nan]   \n",
       "653         1979              Heebner 79 inscribed on bottom right   \n",
       "77          2021                                             [nan]   \n",
       "213         2010              Signed by artist and numbered, recto   \n",
       "\n",
       "                                             condition        period  \\\n",
       "587  This work is in very good condition.Artwork no...      Post-War   \n",
       "259                       Overall excellent condition.  Contemporary   \n",
       "653  This work is in good condition.Not examined ou...        Modern   \n",
       "77                                Excellent condition.  Contemporary   \n",
       "213                                Very good condition  Contemporary   \n",
       "\n",
       "          movement  price_amount price_currency  clean_yearCreation  \\\n",
       "587  Expressionism          1500            USD              1990.0   \n",
       "259       Abstract          9500            USD              2014.0   \n",
       "653       Abstract          1275            USD              1979.0   \n",
       "77        Abstract          2500            USD              2021.0   \n",
       "213        Pop Art         13000            USD              2010.0   \n",
       "\n",
       "                                         filename clean_signed   category  \\\n",
       "587  ../Art_Price/images/artDataset/image_588.png          Yes  very good   \n",
       "259  ../Art_Price/images/artDataset/image_260.png           No  excellent   \n",
       "653  ../Art_Price/images/artDataset/image_654.png           No       good   \n",
       "77    ../Art_Price/images/artDataset/image_78.png           No  excellent   \n",
       "213  ../Art_Price/images/artDataset/image_214.png          Yes  very good   \n",
       "\n",
       "                                     cleaned_condition  category_encoded  \n",
       "587  this work is in very good conditionartwork not...                 4  \n",
       "259                        overall excellent condition                 1  \n",
       "653  this work is in good conditionnot examined out...                 2  \n",
       "77                                 excellent condition                 1  \n",
       "213                                very good condition                 4  "
      ]
     },
     "execution_count": 80,
     "metadata": {},
     "output_type": "execute_result"
    }
   ],
   "source": [
    "from sklearn.preprocessing import LabelEncoder\n",
    "\n",
    "label_encoder = LabelEncoder()\n",
    "random_sample['category_encoded'] = label_encoder.fit_transform(random_sample['category'])\n",
    "random_sample.head(5)"
   ]
  },
  {
   "cell_type": "code",
   "execution_count": 81,
   "metadata": {},
   "outputs": [
    {
     "name": "stderr",
     "output_type": "stream",
     "text": [
      "C:\\Users\\antoa\\AppData\\Roaming\\Python\\Python311\\site-packages\\sklearn\\model_selection\\_split.py:737: UserWarning: The least populated class in y has only 3 members, which is less than n_splits=5.\n",
      "  warnings.warn(\n"
     ]
    },
    {
     "data": {
      "text/plain": [
       "0.73"
      ]
     },
     "execution_count": 81,
     "metadata": {},
     "output_type": "execute_result"
    }
   ],
   "source": [
    "from sklearn.feature_extraction.text import CountVectorizer\n",
    "from sklearn.naive_bayes import MultinomialNB\n",
    "from sklearn.model_selection import cross_validate\n",
    "\n",
    "vectorizer = CountVectorizer()\n",
    "naivebayes = MultinomialNB()\n",
    "\n",
    "X_bow = vectorizer.fit_transform(random_sample['cleaned_condition'])\n",
    "\n",
    "cv_nb = cross_validate(\n",
    "    naivebayes,\n",
    "    X_bow,\n",
    "    random_sample['category_encoded'],\n",
    "    scoring = \"accuracy\"\n",
    ")\n",
    "\n",
    "round(cv_nb['test_score'].mean(),2)"
   ]
  },
  {
   "cell_type": "code",
   "execution_count": 82,
   "metadata": {},
   "outputs": [
    {
     "name": "stderr",
     "output_type": "stream",
     "text": [
      "C:\\Users\\antoa\\AppData\\Roaming\\Python\\Python311\\site-packages\\sklearn\\model_selection\\_split.py:737: UserWarning: The least populated class in y has only 3 members, which is less than n_splits=5.\n",
      "  warnings.warn(\n"
     ]
    },
    {
     "data": {
      "text/plain": [
       "0.72"
      ]
     },
     "execution_count": 82,
     "metadata": {},
     "output_type": "execute_result"
    }
   ],
   "source": [
    "vectorizer = CountVectorizer(ngram_range = (2,2))\n",
    "naivebayes = MultinomialNB()\n",
    "\n",
    "X_bow = vectorizer.fit_transform(random_sample['cleaned_condition'])\n",
    "\n",
    "cv_nb = cross_validate(\n",
    "    naivebayes,\n",
    "    X_bow,\n",
    "    random_sample['category_encoded'],\n",
    "    scoring = \"accuracy\"\n",
    ")\n",
    "\n",
    "round(cv_nb['test_score'].mean(),2)"
   ]
  },
  {
   "cell_type": "markdown",
   "metadata": {},
   "source": [
    "-------------------------------------------------------------------------------------------------------------------------------------------------"
   ]
  },
  {
   "cell_type": "code",
   "execution_count": 83,
   "metadata": {},
   "outputs": [],
   "source": [
    "import re \n",
    "import numpy as np\n",
    "from nltk.corpus import stopwords\n",
    "from nltk.stem import SnowballStemmer \n",
    "from sklearn.feature_extraction.text import TfidfVectorizer\n",
    "from sklearn.svm import LinearSVC\n",
    "from sklearn.pipeline import Pipeline\n",
    "from sklearn.model_selection import train_test_split\n",
    "from sklearn.feature_selection import SelectKBest, chi2\n"
   ]
  },
  {
   "cell_type": "code",
   "execution_count": 84,
   "metadata": {},
   "outputs": [],
   "source": [
    "stemmer = SnowballStemmer('english')\n",
    "words = stopwords.words('english')"
   ]
  },
  {
   "cell_type": "code",
   "execution_count": 85,
   "metadata": {},
   "outputs": [],
   "source": [
    "random_sample['cleanned'] = random_sample['condition'].apply(lambda x: \" \".join([stemmer.stem(i) for i in re.sub(\"[^a-zA-A]\", \" \", x).split() if i not in words]).lower())"
   ]
  },
  {
   "cell_type": "code",
   "execution_count": 86,
   "metadata": {},
   "outputs": [],
   "source": [
    "X_train, X_test, y_train, y_test = train_test_split(random_sample['cleanned'], random_sample['category'], test_size=0.2, random_state=42)"
   ]
  },
  {
   "cell_type": "code",
   "execution_count": 87,
   "metadata": {},
   "outputs": [],
   "source": [
    "pipeline = Pipeline([\n",
    "    ('vect', TfidfVectorizer(ngram_range=(1,3), stop_words=\"english\", sublinear_tf=True)),\n",
    "    ('chi', SelectKBest(chi2, k='all')),\n",
    "    ('clf', LinearSVC(C=1.0, penalty='l1', max_iter=3000, dual=False))\n",
    "])"
   ]
  },
  {
   "cell_type": "code",
   "execution_count": 88,
   "metadata": {},
   "outputs": [],
   "source": [
    "model=pipeline.fit(X_train, y_train)"
   ]
  },
  {
   "cell_type": "code",
   "execution_count": 89,
   "metadata": {},
   "outputs": [],
   "source": [
    "vectorizer_d = model.named_steps['vect']\n",
    "chi = model.named_steps['chi']\n",
    "clf = model.named_steps['clf']"
   ]
  },
  {
   "cell_type": "code",
   "execution_count": 90,
   "metadata": {},
   "outputs": [],
   "source": [
    "feature_names = vectorizer_d.get_feature_names_out()\n",
    "feature_names = [feature_names[i] for i in chi.get_support(indices=True)]\n",
    "feature_names = np.asarray(feature_names)"
   ]
  },
  {
   "cell_type": "code",
   "execution_count": 91,
   "metadata": {},
   "outputs": [
    {
     "name": "stdout",
     "output_type": "stream",
     "text": [
      "accuracy score 0.8333333333333334\n"
     ]
    }
   ],
   "source": [
    "print('accuracy score ' + str(model.score(X_test, y_test)))\n"
   ]
  },
  {
   "cell_type": "code",
   "execution_count": 92,
   "metadata": {},
   "outputs": [
    {
     "name": "stdout",
     "output_type": "stream",
     "text": [
      "['good']\n"
     ]
    }
   ],
   "source": [
    "print(model.predict((['The canvas is unlined and tacked to the original stretchers. Under UV: There are no signs of inpainting or previous restoration.'])))"
   ]
  },
  {
   "cell_type": "code",
   "execution_count": 93,
   "metadata": {},
   "outputs": [
    {
     "data": {
      "text/plain": [
       "(120, 300)"
      ]
     },
     "execution_count": 93,
     "metadata": {},
     "output_type": "execute_result"
    }
   ],
   "source": [
    "# Train Bag of Words model\n",
    "\n",
    "from sklearn.feature_extraction.text import CountVectorizer\n",
    "\n",
    "cv = CountVectorizer()\n",
    "\n",
    "X_train_cv = cv.fit_transform(X_train)\n",
    "\n",
    "X_train_cv.shape"
   ]
  },
  {
   "cell_type": "code",
   "execution_count": 94,
   "metadata": {},
   "outputs": [
    {
     "data": {
      "text/plain": [
       "array(['good', 'excellent', 'excellent', 'very good', 'acceptable',\n",
       "       'good', 'excellent', 'excellent', 'good', 'good', 'very good',\n",
       "       'very good', 'excellent', 'very good', 'very good', 'excellent',\n",
       "       'excellent', 'very good', 'very good', 'excellent', 'good', 'good',\n",
       "       'very good', 'excellent', 'very good', 'excellent', 'very good',\n",
       "       'excellent', 'excellent', 'good'], dtype=object)"
      ]
     },
     "execution_count": 94,
     "metadata": {},
     "output_type": "execute_result"
    }
   ],
   "source": [
    "# Training Logistic Regression model\n",
    "\n",
    "from sklearn.linear_model import LogisticRegression\n",
    "\n",
    "lr = LogisticRegression()\n",
    "\n",
    "lr.fit(X_train_cv, y_train)\n",
    "\n",
    "\n",
    "\n",
    "\n",
    "# transform X_test using CV\n",
    "\n",
    "X_test_cv = cv.transform(X_test)\n",
    "\n",
    "\n",
    "\n",
    "\n",
    "# generate predictions\n",
    "\n",
    "predictions = lr.predict(X_test_cv)\n",
    "\n",
    "predictions"
   ]
  },
  {
   "cell_type": "code",
   "execution_count": 95,
   "metadata": {},
   "outputs": [
    {
     "data": {
      "text/html": [
       "<div>\n",
       "<style scoped>\n",
       "    .dataframe tbody tr th:only-of-type {\n",
       "        vertical-align: middle;\n",
       "    }\n",
       "\n",
       "    .dataframe tbody tr th {\n",
       "        vertical-align: top;\n",
       "    }\n",
       "\n",
       "    .dataframe thead th {\n",
       "        text-align: right;\n",
       "    }\n",
       "</style>\n",
       "<table border=\"1\" class=\"dataframe\">\n",
       "  <thead>\n",
       "    <tr style=\"text-align: right;\">\n",
       "      <th></th>\n",
       "      <th>good</th>\n",
       "      <th>very good</th>\n",
       "      <th>excellent</th>\n",
       "      <th>acceptable</th>\n",
       "    </tr>\n",
       "  </thead>\n",
       "  <tbody>\n",
       "    <tr>\n",
       "      <th>good</th>\n",
       "      <td>0</td>\n",
       "      <td>0</td>\n",
       "      <td>1</td>\n",
       "      <td>0</td>\n",
       "    </tr>\n",
       "    <tr>\n",
       "      <th>very good</th>\n",
       "      <td>0</td>\n",
       "      <td>12</td>\n",
       "      <td>0</td>\n",
       "      <td>2</td>\n",
       "    </tr>\n",
       "    <tr>\n",
       "      <th>excellent</th>\n",
       "      <td>1</td>\n",
       "      <td>0</td>\n",
       "      <td>3</td>\n",
       "      <td>0</td>\n",
       "    </tr>\n",
       "    <tr>\n",
       "      <th>acceptable</th>\n",
       "      <td>0</td>\n",
       "      <td>0</td>\n",
       "      <td>3</td>\n",
       "      <td>8</td>\n",
       "    </tr>\n",
       "  </tbody>\n",
       "</table>\n",
       "</div>"
      ],
      "text/plain": [
       "            good  very good  excellent  acceptable\n",
       "good           0          0          1           0\n",
       "very good      0         12          0           2\n",
       "excellent      1          0          3           0\n",
       "acceptable     0          0          3           8"
      ]
     },
     "execution_count": 95,
     "metadata": {},
     "output_type": "execute_result"
    }
   ],
   "source": [
    "# confusion matrix\n",
    "\n",
    "import pandas as pd\n",
    "\n",
    "from sklearn import metrics\n",
    "class_label = ['good', 'very good', 'excellent', 'acceptable']\n",
    "df = pd.DataFrame(metrics.confusion_matrix(y_test,predictions), index=class_label, columns=class_label)\n",
    "\n",
    "df"
   ]
  },
  {
   "cell_type": "markdown",
   "metadata": {},
   "source": [
    "______________________________"
   ]
  },
  {
   "cell_type": "code",
   "execution_count": 96,
   "metadata": {},
   "outputs": [],
   "source": [
    "condition_col = data['condition']\n",
    "predict_cat = model.predict(condition_col)\n",
    "data['category'] = predict_cat"
   ]
  },
  {
   "cell_type": "code",
   "execution_count": 97,
   "metadata": {},
   "outputs": [
    {
     "data": {
      "text/html": [
       "<div>\n",
       "<style scoped>\n",
       "    .dataframe tbody tr th:only-of-type {\n",
       "        vertical-align: middle;\n",
       "    }\n",
       "\n",
       "    .dataframe tbody tr th {\n",
       "        vertical-align: top;\n",
       "    }\n",
       "\n",
       "    .dataframe thead th {\n",
       "        text-align: right;\n",
       "    }\n",
       "</style>\n",
       "<table border=\"1\" class=\"dataframe\">\n",
       "  <thead>\n",
       "    <tr style=\"text-align: right;\">\n",
       "      <th></th>\n",
       "      <th>id_image</th>\n",
       "      <th>price</th>\n",
       "      <th>artist</th>\n",
       "      <th>title</th>\n",
       "      <th>yearCreation</th>\n",
       "      <th>signed</th>\n",
       "      <th>condition</th>\n",
       "      <th>period</th>\n",
       "      <th>movement</th>\n",
       "      <th>price_amount</th>\n",
       "      <th>price_currency</th>\n",
       "      <th>clean_yearCreation</th>\n",
       "      <th>filename</th>\n",
       "      <th>clean_signed</th>\n",
       "      <th>category</th>\n",
       "    </tr>\n",
       "  </thead>\n",
       "  <tbody>\n",
       "    <tr>\n",
       "      <th>0</th>\n",
       "      <td>0</td>\n",
       "      <td>28.500 USD</td>\n",
       "      <td>Tommaso Ottieri</td>\n",
       "      <td>Bayreuth Opera</td>\n",
       "      <td>2021</td>\n",
       "      <td>Signed on verso</td>\n",
       "      <td>This work is in excellent condition.</td>\n",
       "      <td>Contemporary</td>\n",
       "      <td>Baroque</td>\n",
       "      <td>28500</td>\n",
       "      <td>USD</td>\n",
       "      <td>2021.0</td>\n",
       "      <td>../Art_Price/images/artDataset/image_1.png</td>\n",
       "      <td>Yes</td>\n",
       "      <td>good</td>\n",
       "    </tr>\n",
       "    <tr>\n",
       "      <th>1</th>\n",
       "      <td>1</td>\n",
       "      <td>3.000 USD</td>\n",
       "      <td>Pavel Tchelitchew</td>\n",
       "      <td>Drawings of the Opera</td>\n",
       "      <td>First Half 20th Century</td>\n",
       "      <td>Signed and titled</td>\n",
       "      <td>Not examined out of frame.No obvious signs of ...</td>\n",
       "      <td>Post-War</td>\n",
       "      <td>Surrealism</td>\n",
       "      <td>3000</td>\n",
       "      <td>USD</td>\n",
       "      <td>NaN</td>\n",
       "      <td>../Art_Price/images/artDataset/image_2.png</td>\n",
       "      <td>Yes</td>\n",
       "      <td>very good</td>\n",
       "    </tr>\n",
       "    <tr>\n",
       "      <th>2</th>\n",
       "      <td>2</td>\n",
       "      <td>5.000 USD</td>\n",
       "      <td>Leo Gabin</td>\n",
       "      <td>Two on Sidewalk</td>\n",
       "      <td>2016</td>\n",
       "      <td>Signed, titled and dated on verso</td>\n",
       "      <td>This work is in excellent condition.</td>\n",
       "      <td>Contemporary</td>\n",
       "      <td>Abstract</td>\n",
       "      <td>5000</td>\n",
       "      <td>USD</td>\n",
       "      <td>2016.0</td>\n",
       "      <td>../Art_Price/images/artDataset/image_3.png</td>\n",
       "      <td>Yes</td>\n",
       "      <td>good</td>\n",
       "    </tr>\n",
       "  </tbody>\n",
       "</table>\n",
       "</div>"
      ],
      "text/plain": [
       "   id_image       price             artist                  title  \\\n",
       "0         0  28.500 USD    Tommaso Ottieri         Bayreuth Opera   \n",
       "1         1   3.000 USD  Pavel Tchelitchew  Drawings of the Opera   \n",
       "2         2   5.000 USD          Leo Gabin        Two on Sidewalk   \n",
       "\n",
       "               yearCreation                             signed  \\\n",
       "0                      2021                    Signed on verso   \n",
       "1  First Half 20th Century                   Signed and titled   \n",
       "2                      2016  Signed, titled and dated on verso   \n",
       "\n",
       "                                           condition        period  \\\n",
       "0               This work is in excellent condition.  Contemporary   \n",
       "1  Not examined out of frame.No obvious signs of ...      Post-War   \n",
       "2               This work is in excellent condition.  Contemporary   \n",
       "\n",
       "     movement  price_amount price_currency  clean_yearCreation  \\\n",
       "0     Baroque         28500            USD              2021.0   \n",
       "1  Surrealism          3000            USD                 NaN   \n",
       "2    Abstract          5000            USD              2016.0   \n",
       "\n",
       "                                     filename clean_signed   category  \n",
       "0  ../Art_Price/images/artDataset/image_1.png          Yes       good  \n",
       "1  ../Art_Price/images/artDataset/image_2.png          Yes  very good  \n",
       "2  ../Art_Price/images/artDataset/image_3.png          Yes       good  "
      ]
     },
     "execution_count": 97,
     "metadata": {},
     "output_type": "execute_result"
    }
   ],
   "source": [
    "data.head(3)"
   ]
  },
  {
   "cell_type": "markdown",
   "metadata": {},
   "source": [
    "_________________________________________________________________________________________________________________________________________________\n"
   ]
  },
  {
   "cell_type": "code",
   "execution_count": 98,
   "metadata": {},
   "outputs": [],
   "source": [
    "data.to_csv('Data/nlp_artDataset.csv', index=False)\n"
   ]
  },
  {
   "cell_type": "code",
   "execution_count": 149,
   "metadata": {},
   "outputs": [
    {
     "data": {
      "text/plain": [
       "category\n",
       "good          487\n",
       "very good     234\n",
       "acceptable     26\n",
       "unknown         7\n",
       "Name: count, dtype: int64"
      ]
     },
     "execution_count": 149,
     "metadata": {},
     "output_type": "execute_result"
    }
   ],
   "source": [
    "data['category'].value_counts()"
   ]
  },
  {
   "cell_type": "code",
   "execution_count": 99,
   "metadata": {},
   "outputs": [
    {
     "data": {
      "text/plain": [
       "category\n",
       "excellent     60\n",
       "very good     55\n",
       "good          24\n",
       "acceptable     8\n",
       "unknown        3\n",
       "Name: count, dtype: int64"
      ]
     },
     "execution_count": 99,
     "metadata": {},
     "output_type": "execute_result"
    }
   ],
   "source": [
    "random_sample['category'].value_counts()"
   ]
  },
  {
   "cell_type": "code",
   "execution_count": 100,
   "metadata": {},
   "outputs": [
    {
     "data": {
      "text/plain": [
       "150"
      ]
     },
     "execution_count": 100,
     "metadata": {},
     "output_type": "execute_result"
    }
   ],
   "source": [
    "X = random_sample['condition']\n",
    "y =random_sample['category']\n",
    "len(X)"
   ]
  },
  {
   "cell_type": "code",
   "execution_count": 101,
   "metadata": {},
   "outputs": [],
   "source": [
    "from sklearn.model_selection import train_test_split\n",
    "\n",
    "X_train, X_test, y_train, y_test = train_test_split(X, y, test_size=0.2, random_state=42)"
   ]
  },
  {
   "cell_type": "code",
   "execution_count": 102,
   "metadata": {},
   "outputs": [
    {
     "data": {
      "text/plain": [
       "120"
      ]
     },
     "execution_count": 102,
     "metadata": {},
     "output_type": "execute_result"
    }
   ],
   "source": [
    "len(X_train)"
   ]
  },
  {
   "cell_type": "code",
   "execution_count": 103,
   "metadata": {},
   "outputs": [],
   "source": [
    "from sklearn.pipeline import Pipeline\n",
    "from sklearn.feature_extraction.text import TfidfVectorizer\n",
    "from sklearn.naive_bayes import MultinomialNB, ComplementNB\n",
    "from sklearn.svm import LinearSVC\n",
    "from sklearn.metrics import accuracy_score, classification_report\n",
    "\n",
    "\n",
    "pipeMNB = Pipeline([('tfid', TfidfVectorizer()),('clf', MultinomialNB())])\n",
    "pipeCNB = Pipeline([('tfid', TfidfVectorizer()),('clf', ComplementNB())])\n",
    "pipeSVC = Pipeline([('tfid', TfidfVectorizer()),('clf', LinearSVC())])"
   ]
  },
  {
   "cell_type": "code",
   "execution_count": 104,
   "metadata": {},
   "outputs": [
    {
     "data": {
      "text/plain": [
       "array(['very good', 'excellent', 'excellent', 'very good', 'very good',\n",
       "       'very good', 'excellent', 'very good', 'very good', 'very good',\n",
       "       'very good', 'very good', 'excellent', 'very good', 'very good',\n",
       "       'excellent', 'excellent', 'very good', 'very good', 'excellent',\n",
       "       'very good', 'excellent', 'very good', 'excellent', 'very good',\n",
       "       'excellent', 'very good', 'excellent', 'excellent', 'very good'],\n",
       "      dtype='<U10')"
      ]
     },
     "execution_count": 104,
     "metadata": {},
     "output_type": "execute_result"
    }
   ],
   "source": [
    "pipeMNB.fit(X_train, y_train)\n",
    "predictMNB = pipeMNB.predict(X_test)\n",
    "predictMNB"
   ]
  },
  {
   "cell_type": "code",
   "execution_count": 105,
   "metadata": {},
   "outputs": [
    {
     "name": "stdout",
     "output_type": "stream",
     "text": [
      "MNB:  0.70\n"
     ]
    }
   ],
   "source": [
    "print(f'MNB: {accuracy_score(y_test, predictMNB): .2f}')"
   ]
  },
  {
   "cell_type": "code",
   "execution_count": 106,
   "metadata": {},
   "outputs": [
    {
     "name": "stdout",
     "output_type": "stream",
     "text": [
      "CNB:  0.77\n",
      "SVC:  0.80\n"
     ]
    },
    {
     "name": "stderr",
     "output_type": "stream",
     "text": [
      "C:\\Users\\antoa\\AppData\\Roaming\\Python\\Python311\\site-packages\\sklearn\\svm\\_classes.py:32: FutureWarning: The default value of `dual` will change from `True` to `'auto'` in 1.5. Set the value of `dual` explicitly to suppress the warning.\n",
      "  warnings.warn(\n"
     ]
    }
   ],
   "source": [
    "pipeCNB.fit(X_train, y_train)\n",
    "predictCNB = pipeCNB.predict(X_test)\n",
    "print(f'CNB: {accuracy_score(y_test, predictCNB): .2f}')\n",
    "pipeSVC.fit(X_train, y_train)\n",
    "predictSVC = pipeSVC.predict(X_test)\n",
    "print(f'SVC: {accuracy_score(y_test, predictSVC): .2f}')\n"
   ]
  },
  {
   "cell_type": "code",
   "execution_count": 107,
   "metadata": {},
   "outputs": [
    {
     "name": "stdout",
     "output_type": "stream",
     "text": [
      "              precision    recall  f1-score   support\n",
      "\n",
      "  acceptable       0.00      0.00      0.00         1\n",
      "   excellent       1.00      0.86      0.92        14\n",
      "        good       0.67      0.50      0.57         4\n",
      "   very good       0.77      0.91      0.83        11\n",
      "\n",
      "    accuracy                           0.80        30\n",
      "   macro avg       0.61      0.57      0.58        30\n",
      "weighted avg       0.84      0.80      0.81        30\n",
      "\n"
     ]
    }
   ],
   "source": [
    "print(classification_report(y_test, predictSVC))"
   ]
  },
  {
   "cell_type": "code",
   "execution_count": 108,
   "metadata": {},
   "outputs": [],
   "source": [
    "pipeMNBstop = Pipeline([('tfid', TfidfVectorizer(stop_words='english')),('clf', MultinomialNB())])\n",
    "pipeCNBstop = Pipeline([('tfid', TfidfVectorizer(stop_words='english')),('clf', ComplementNB())])\n",
    "pipeSVCstop = Pipeline([('tfid', TfidfVectorizer(stop_words='english')),('clf', LinearSVC())])"
   ]
  },
  {
   "cell_type": "code",
   "execution_count": 109,
   "metadata": {},
   "outputs": [
    {
     "name": "stdout",
     "output_type": "stream",
     "text": [
      "MNBstop:  0.70\n",
      "CNBstop:  0.70\n",
      "SVCstop:  0.77\n"
     ]
    },
    {
     "name": "stderr",
     "output_type": "stream",
     "text": [
      "C:\\Users\\antoa\\AppData\\Roaming\\Python\\Python311\\site-packages\\sklearn\\svm\\_classes.py:32: FutureWarning: The default value of `dual` will change from `True` to `'auto'` in 1.5. Set the value of `dual` explicitly to suppress the warning.\n",
      "  warnings.warn(\n"
     ]
    }
   ],
   "source": [
    "pipeMNBstop.fit(X_train, y_train)\n",
    "predictMNBstop = pipeMNBstop.predict(X_test)\n",
    "print(f'MNBstop: {accuracy_score(y_test, predictMNBstop): .2f}')\n",
    "pipeCNBstop.fit(X_train, y_train)\n",
    "predictCNBstop = pipeCNBstop.predict(X_test)\n",
    "print(f'CNBstop: {accuracy_score(y_test, predictCNBstop): .2f}')\n",
    "pipeSVCstop.fit(X_train, y_train)\n",
    "predictSVCstop = pipeSVCstop.predict(X_test)\n",
    "print(f'SVCstop: {accuracy_score(y_test, predictSVCstop): .2f}')"
   ]
  },
  {
   "cell_type": "code",
   "execution_count": 110,
   "metadata": {},
   "outputs": [],
   "source": [
    "pipeMNBstopngram = Pipeline([('tfid', TfidfVectorizer(stop_words='english', ngram_range=(1,3))),('clf', MultinomialNB())])\n",
    "pipeCNBstopngram = Pipeline([('tfid', TfidfVectorizer(stop_words='english', ngram_range=(1,3))),('clf', ComplementNB())])\n",
    "pipeSVCstopngram = Pipeline([('tfid', TfidfVectorizer(stop_words='english', ngram_range=(1,3))),('clf', LinearSVC())])"
   ]
  },
  {
   "cell_type": "code",
   "execution_count": 111,
   "metadata": {},
   "outputs": [
    {
     "name": "stdout",
     "output_type": "stream",
     "text": [
      "MNBstop:  0.80\n",
      "CNBstop:  0.77\n",
      "SVCstop:  0.80\n"
     ]
    },
    {
     "name": "stderr",
     "output_type": "stream",
     "text": [
      "C:\\Users\\antoa\\AppData\\Roaming\\Python\\Python311\\site-packages\\sklearn\\svm\\_classes.py:32: FutureWarning: The default value of `dual` will change from `True` to `'auto'` in 1.5. Set the value of `dual` explicitly to suppress the warning.\n",
      "  warnings.warn(\n"
     ]
    }
   ],
   "source": [
    "pipeMNBstopngram.fit(X_train, y_train)\n",
    "predictMNBstopngram = pipeMNBstopngram.predict(X_test)\n",
    "print(f'MNBstop: {accuracy_score(y_test, predictMNBstopngram): .2f}')\n",
    "pipeCNBstopngram.fit(X_train, y_train)\n",
    "predictCNBstopngram = pipeCNBstopngram.predict(X_test)\n",
    "print(f'CNBstop: {accuracy_score(y_test, predictCNBstopngram): .2f}')\n",
    "pipeSVCstopngram.fit(X_train, y_train)\n",
    "predictSVCstopngram = pipeSVCstopngram.predict(X_test)\n",
    "print(f'SVCstop: {accuracy_score(y_test, predictSVCstopngram): .2f}')"
   ]
  },
  {
   "cell_type": "code",
   "execution_count": 112,
   "metadata": {},
   "outputs": [],
   "source": [
    "MNBstopngram = Pipeline([('tfid', TfidfVectorizer(stop_words='english', ngram_range=(1,3))),('clf', MultinomialNB())])\n",
    "CNBstopngram = Pipeline([('tfid', TfidfVectorizer(ngram_range=(1,3))),('clf', ComplementNB())])\n",
    "SVCstopngram = Pipeline([('tfid', TfidfVectorizer(ngram_range=(1,3))),('clf', LinearSVC())])"
   ]
  },
  {
   "cell_type": "code",
   "execution_count": 113,
   "metadata": {},
   "outputs": [
    {
     "name": "stdout",
     "output_type": "stream",
     "text": [
      "MNBstop:  0.80\n",
      "CNBstop:  0.77\n",
      "SVCstop:  0.80\n"
     ]
    },
    {
     "name": "stderr",
     "output_type": "stream",
     "text": [
      "C:\\Users\\antoa\\AppData\\Roaming\\Python\\Python311\\site-packages\\sklearn\\svm\\_classes.py:32: FutureWarning: The default value of `dual` will change from `True` to `'auto'` in 1.5. Set the value of `dual` explicitly to suppress the warning.\n",
      "  warnings.warn(\n"
     ]
    }
   ],
   "source": [
    "MNBstopngram.fit(X_train, y_train)\n",
    "PMNBstopngram = MNBstopngram.predict(X_test)\n",
    "print(f'MNBstop: {accuracy_score(y_test, PMNBstopngram): .2f}')\n",
    "CNBstopngram.fit(X_train, y_train)\n",
    "PCNBstopngram = CNBstopngram.predict(X_test)\n",
    "print(f'CNBstop: {accuracy_score(y_test, PCNBstopngram): .2f}')\n",
    "SVCstopngram.fit(X_train, y_train)\n",
    "PSVCstopngram = SVCstopngram.predict(X_test)\n",
    "print(f'SVCstop: {accuracy_score(y_test, PSVCstopngram): .2f}')"
   ]
  },
  {
   "cell_type": "markdown",
   "metadata": {},
   "source": [
    "________________________________________\n"
   ]
  },
  {
   "cell_type": "code",
   "execution_count": 114,
   "metadata": {},
   "outputs": [],
   "source": [
    "data_cat = pd.read_csv('Data/nlp_artDataset.csv')"
   ]
  },
  {
   "cell_type": "code",
   "execution_count": 115,
   "metadata": {},
   "outputs": [
    {
     "data": {
      "text/plain": [
       "array(['good', 'very good', 'acceptable', 'unknown'], dtype=object)"
      ]
     },
     "execution_count": 115,
     "metadata": {},
     "output_type": "execute_result"
    }
   ],
   "source": [
    "data_cat['category'].unique()"
   ]
  },
  {
   "cell_type": "code",
   "execution_count": 116,
   "metadata": {},
   "outputs": [
    {
     "name": "stdout",
     "output_type": "stream",
     "text": [
      "            clean_yearCreation  price_amount\n",
      "category                                    \n",
      "acceptable                  24   7406.923077\n",
      "good                       421   9020.852156\n",
      "unknown                      7   7285.714286\n",
      "very good                  214   1969.594017\n"
     ]
    }
   ],
   "source": [
    "# Création du tableau croisé\n",
    "pivot_table_result = pd.pivot_table(data_cat, \n",
    "                                    index='category',  # Utilisation de 'category' comme index\n",
    "                                    values=['clean_yearCreation', 'price_amount'],  # Colonnes à utiliser\n",
    "                                    aggfunc={'clean_yearCreation': 'count',  # Nombre d'années de création\n",
    "                                             'price_amount': 'mean'})  # Moyenne des prix\n",
    "\n",
    "# Affichage du tableau croisé\n",
    "print(pivot_table_result)"
   ]
  },
  {
   "cell_type": "code",
   "execution_count": 117,
   "metadata": {},
   "outputs": [
    {
     "data": {
      "text/html": [
       "<div>\n",
       "<style scoped>\n",
       "    .dataframe tbody tr th:only-of-type {\n",
       "        vertical-align: middle;\n",
       "    }\n",
       "\n",
       "    .dataframe tbody tr th {\n",
       "        vertical-align: top;\n",
       "    }\n",
       "\n",
       "    .dataframe thead th {\n",
       "        text-align: right;\n",
       "    }\n",
       "</style>\n",
       "<table border=\"1\" class=\"dataframe\">\n",
       "  <thead>\n",
       "    <tr style=\"text-align: right;\">\n",
       "      <th></th>\n",
       "      <th>category</th>\n",
       "      <th>clean_yearCreation</th>\n",
       "      <th>price_amount</th>\n",
       "    </tr>\n",
       "  </thead>\n",
       "  <tbody>\n",
       "    <tr>\n",
       "      <th>0</th>\n",
       "      <td>good</td>\n",
       "      <td>2021.0</td>\n",
       "      <td>28500</td>\n",
       "    </tr>\n",
       "    <tr>\n",
       "      <th>1</th>\n",
       "      <td>very good</td>\n",
       "      <td>NaN</td>\n",
       "      <td>3000</td>\n",
       "    </tr>\n",
       "    <tr>\n",
       "      <th>2</th>\n",
       "      <td>good</td>\n",
       "      <td>2016.0</td>\n",
       "      <td>5000</td>\n",
       "    </tr>\n",
       "    <tr>\n",
       "      <th>3</th>\n",
       "      <td>good</td>\n",
       "      <td>2010.0</td>\n",
       "      <td>5000</td>\n",
       "    </tr>\n",
       "    <tr>\n",
       "      <th>4</th>\n",
       "      <td>good</td>\n",
       "      <td>2001.0</td>\n",
       "      <td>2500</td>\n",
       "    </tr>\n",
       "    <tr>\n",
       "      <th>...</th>\n",
       "      <td>...</td>\n",
       "      <td>...</td>\n",
       "      <td>...</td>\n",
       "    </tr>\n",
       "    <tr>\n",
       "      <th>749</th>\n",
       "      <td>very good</td>\n",
       "      <td>2012.0</td>\n",
       "      <td>680</td>\n",
       "    </tr>\n",
       "    <tr>\n",
       "      <th>750</th>\n",
       "      <td>acceptable</td>\n",
       "      <td>1970.0</td>\n",
       "      <td>1275</td>\n",
       "    </tr>\n",
       "    <tr>\n",
       "      <th>751</th>\n",
       "      <td>good</td>\n",
       "      <td>2012.0</td>\n",
       "      <td>680</td>\n",
       "    </tr>\n",
       "    <tr>\n",
       "      <th>752</th>\n",
       "      <td>very good</td>\n",
       "      <td>1986.0</td>\n",
       "      <td>1275</td>\n",
       "    </tr>\n",
       "    <tr>\n",
       "      <th>753</th>\n",
       "      <td>good</td>\n",
       "      <td>1975.0</td>\n",
       "      <td>680</td>\n",
       "    </tr>\n",
       "  </tbody>\n",
       "</table>\n",
       "<p>754 rows × 3 columns</p>\n",
       "</div>"
      ],
      "text/plain": [
       "       category  clean_yearCreation  price_amount\n",
       "0          good              2021.0         28500\n",
       "1     very good                 NaN          3000\n",
       "2          good              2016.0          5000\n",
       "3          good              2010.0          5000\n",
       "4          good              2001.0          2500\n",
       "..          ...                 ...           ...\n",
       "749   very good              2012.0           680\n",
       "750  acceptable              1970.0          1275\n",
       "751        good              2012.0           680\n",
       "752   very good              1986.0          1275\n",
       "753        good              1975.0           680\n",
       "\n",
       "[754 rows x 3 columns]"
      ]
     },
     "execution_count": 117,
     "metadata": {},
     "output_type": "execute_result"
    }
   ],
   "source": [
    "data_cat = data_cat[['category', 'clean_yearCreation', 'price_amount']]\n",
    "data_cat"
   ]
  },
  {
   "cell_type": "code",
   "execution_count": 131,
   "metadata": {},
   "outputs": [],
   "source": [
    "df = pd.read_csv('Data/nlp_artDataset.csv')"
   ]
  },
  {
   "cell_type": "code",
   "execution_count": 135,
   "metadata": {},
   "outputs": [
    {
     "data": {
      "text/plain": [
       "array(['Contemporary', 'Post-War', 'Modern', '19th Century', '[nan]'],\n",
       "      dtype=object)"
      ]
     },
     "execution_count": 135,
     "metadata": {},
     "output_type": "execute_result"
    }
   ],
   "source": [
    "df['period'].unique()"
   ]
  },
  {
   "cell_type": "code",
   "execution_count": 142,
   "metadata": {},
   "outputs": [],
   "source": [
    "df['period'] = np.where(df['period'].isnull(), 'unknown', df['period'])\n",
    "\n"
   ]
  },
  {
   "cell_type": "code",
   "execution_count": 144,
   "metadata": {},
   "outputs": [
    {
     "data": {
      "text/plain": [
       "array(['Contemporary', 'Post-War', 'Modern', '19th Century', '[nan]'],\n",
       "      dtype=object)"
      ]
     },
     "execution_count": 144,
     "metadata": {},
     "output_type": "execute_result"
    }
   ],
   "source": [
    "df['period'].unique()"
   ]
  },
  {
   "cell_type": "code",
   "execution_count": null,
   "metadata": {},
   "outputs": [
    {
     "data": {
      "text/plain": [
       "dtype('<M8[ns]')"
      ]
     },
     "metadata": {},
     "output_type": "display_data"
    }
   ],
   "source": [
    "data_cat['clean_yearCreation'] = pd.to_datetime(data_cat['clean_yearCreation'], errors='coerce')\n",
    "data_cat['clean_yearCreation'].dtypes"
   ]
  },
  {
   "cell_type": "code",
   "execution_count": 139,
   "metadata": {},
   "outputs": [
    {
     "data": {
      "text/plain": [
       "0"
      ]
     },
     "execution_count": 139,
     "metadata": {},
     "output_type": "execute_result"
    }
   ],
   "source": [
    "df['period'].isna().sum()"
   ]
  }
 ],
 "metadata": {
  "kernelspec": {
   "display_name": "art_env",
   "language": "python",
   "name": "python3"
  },
  "language_info": {
   "codemirror_mode": {
    "name": "ipython",
    "version": 3
   },
   "file_extension": ".py",
   "mimetype": "text/x-python",
   "name": "python",
   "nbconvert_exporter": "python",
   "pygments_lexer": "ipython3",
   "version": "3.11.7"
  }
 },
 "nbformat": 4,
 "nbformat_minor": 2
}
